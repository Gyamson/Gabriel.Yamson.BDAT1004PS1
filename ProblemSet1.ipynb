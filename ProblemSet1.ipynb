{
 "cells": [
  {
   "cell_type": "markdown",
   "id": "13f24c62-1c12-42dc-bf0e-6b6e809fcbe9",
   "metadata": {},
   "source": [
    "# PROBLEM SET 1\n",
    "\n",
    "\n",
    "\n",
    "\n",
    "## Question 1\n",
    "\n",
    "The Data types are :\n",
    "\n"
   ]
  },
  {
   "cell_type": "code",
   "execution_count": 50,
   "id": "7c14a60a-8de1-47dc-a14a-83f8828fb0a1",
   "metadata": {},
   "outputs": [
    {
     "name": "stdout",
     "output_type": "stream",
     "text": [
      "<class 'int'>\n",
      "<class 'float'>\n",
      "<class 'bool'>\n",
      "<class 'str'>\n",
      "<class 'int'>\n",
      "<class 'str'>\n",
      "<class 'str'>\n",
      "<class 'float'>\n",
      "<class 'int'>\n",
      "<class 'set'>\n",
      "<class 'bool'>\n",
      "<class 'float'>\n"
     ]
    }
   ],
   "source": [
    "#1. This statement checks the data type of the value. This returns an integer.\n",
    "print(type(5))\n",
    "\n",
    "#2. This statement checks the data type of the value. This returns an float.\n",
    "print(type(5.0))\n",
    "\n",
    "#3. checking the data type. This return a Boolean.\n",
    "print(type(5>1))\n",
    "\n",
    "#4. checking the data type. This returns a String.\n",
    "print(type('5'))\n",
    "\n",
    "#5. Define a variable 'Answer' & check the type of the variable. This returns an integer.\n",
    "Answer = 5 * 2\n",
    "print(type(Answer))\n",
    "\n",
    "#6. Define a variable 'Ans' & check the type of the variable. This returns a string.\n",
    "Ans = '5' * 2\n",
    "print(type(Ans))\n",
    "\n",
    "#7. Define a variable 'x'.There will be concatenation instead of computation because the values are string.\n",
    "num = '5' + '2'\n",
    "print(type(num))\n",
    "\n",
    "#8. Define a variable 'y' & check the type for the variable. This returns a float\n",
    "Div = 5 / 2\n",
    "print(type(Div))\n",
    "\n",
    "#9. Define a variable 's' & check the type for the variable. This returns an integer\n",
    "mod = 5 % 2\n",
    "print(type(mod))\n",
    "\n",
    "#10. This prints data type of list. It returns a set.\n",
    "print(type({5,2,1}))\n",
    "\n",
    "#11. checking the data type. This returns a Boolean.\n",
    "print(type(5==3))\n",
    "\n",
    "#12. #include maths module for pi(π) to work\n",
    "import math\n",
    "#accessing the value of pi(π)\n",
    "pi_value = math.pi\n",
    "\n",
    "#check the data type of the pi_value. it returns float.\n",
    "print(type(pi_value))\n",
    "\n",
    "\n",
    "\n"
   ]
  },
  {
   "cell_type": "markdown",
   "id": "65a1857a-f96e-4b62-abce-63a3d654ca73",
   "metadata": {},
   "source": [
    "## Question 2\n",
    "Write (and evaluate) python expressions that answer these questions:\r\n",
    "a. How many letters are there in 'Supercalifragilisticexpialidocious'\n",
    "?\r\n",
    "b. Does 'Supercalifragilisticexpialidocious' contain 'ice' as a substrin\n",
    "\n",
    "c. Which of the following words is the longest: \r\n",
    "Supercalifragilisticexpialidocious, Honorificabilitudinitatibus, or \r\n",
    "Bababadalgharaghtakamminarronnkonn\n",
    "? \r\n",
    "d. Which composer comes first in the dictionary: 'Berlioz', 'Borodin', 'Brian', \r\n",
    "'Bartok', 'Bellini', 'Buxtehude', 'Bernstein'. Which one comes last?g?"
   ]
  },
  {
   "cell_type": "code",
   "execution_count": 68,
   "id": "c7d89b02-c90e-427e-9b5d-c96790e2ec6c",
   "metadata": {},
   "outputs": [
    {
     "name": "stdout",
     "output_type": "stream",
     "text": [
      "34\n",
      "True\n"
     ]
    }
   ],
   "source": [
    "long_wrd = 'Supercalifragilisticexpialidocious'\n",
    "\n",
    "#A. Number of letters in variable x\n",
    "print(len(long_wrd))\n",
    "\n",
    "#B. variable x contains 'ice'\n",
    "print('ice' in long_wrd)"
   ]
  },
  {
   "cell_type": "code",
   "execution_count": 69,
   "id": "cbbf6e13-c427-409d-a236-601130221c23",
   "metadata": {},
   "outputs": [
    {
     "name": "stdout",
     "output_type": "stream",
     "text": [
      "Supercalifragilisticexpialidocious\n"
     ]
    }
   ],
   "source": [
    "#sub question C\n",
    "words=['Supercalifragilisticexpialidocious', 'Honorificabilitudinitatibus', 'Bababadalgharaghtakamminarronnkonn']\n",
    "\n",
    "#longest word in the list \n",
    "print (max(words))"
   ]
  },
  {
   "cell_type": "code",
   "execution_count": 5,
   "id": "b1eaa0de-96e6-474c-b113-41a68c09da0c",
   "metadata": {},
   "outputs": [
    {
     "name": "stdout",
     "output_type": "stream",
     "text": [
      "Bartok\n",
      "Buxtehude\n"
     ]
    }
   ],
   "source": [
    "#sub question D\n",
    "composers= ['Berlioz', 'Borodin', 'Brian','Bartok', 'Bellini', 'Buxtehude', 'Bernstein']\n",
    "\n",
    "#sort composers in alphabetical order\n",
    "composers.sort()\n",
    "\n",
    "#the composer that comes 1st\n",
    "print(composers[0])\n",
    "\n",
    "#the composer that comes last\n",
    "print(composers[-1])"
   ]
  },
  {
   "cell_type": "markdown",
   "id": "27383cd7-bee1-4cfd-86ed-7e8bf72df9a3",
   "metadata": {},
   "source": [
    "## Question 3\n",
    "\n",
    "Implement function triangleArea(a,b,c) that takes as input the lengths of the 3\r\n",
    "sides of a triangle and returns the area of the triangle. By Heron's formula, the area \r\n",
    "of a triangle with side lengths a, b, and c is (s - a)(s -b)(s -c), where \r\n",
    "s = (a+b+c)/2.\r\n",
    " \r\n",
    "triangleArea(2,2,2)\r\n",
    "1.7320508075688772"
   ]
  },
  {
   "cell_type": "code",
   "execution_count": 8,
   "id": "66c5e91f-ba93-4ef1-b14b-5daf14a6d85e",
   "metadata": {},
   "outputs": [
    {
     "name": "stdin",
     "output_type": "stream",
     "text": [
      "Enter 1st length:  2\n",
      "Enter 2nd length:  2\n",
      "Enter 3rd length:  2\n"
     ]
    },
    {
     "name": "stdout",
     "output_type": "stream",
     "text": [
      "1.7320508075688772\n"
     ]
    }
   ],
   "source": [
    "#include maths module for square root to work\n",
    "import math\n",
    "\n",
    "#take lengths as inputs and assign them to variables.\n",
    "a = float(input('Enter 1st length: '))\n",
    "b = float(input('Enter 2nd length: '))\n",
    "c = float(input('Enter 3rd length: '))\n",
    "s = float((a+b+c)/2)\n",
    "\n",
    "# Calculate the area using Heron's formula\n",
    "Area = math.sqrt(s*(s-a)*(s-b)*(s-c))\n",
    "print(Area)\n",
    "\n"
   ]
  },
  {
   "cell_type": "markdown",
   "id": "5a2cda62-1a7f-4aac-9d6d-92bf2155fa9b",
   "metadata": {},
   "source": [
    "## Question 4\n",
    "\n",
    "Write a program in python to separate odd and even integers in separate arrays. Go \n",
    "to the edito \r\n",
    "Test Data :\r\n",
    "Input the number of elements to be stored in the array :5\r\n",
    "Input 5 elements in the array :\r\n",
    "element - 0 : 25\r\n",
    "element - 1 : 47\r\n",
    "element - 2 : 42\r\n",
    "element - 3 : 56\r\n",
    "element - 4 : 32\r\n",
    "Expected Output:\r\n",
    "The Even elements are:\r\n",
    "42 56 32\r\n",
    "The Odd e\n",
    "25 47lements are :"
   ]
  },
  {
   "cell_type": "code",
   "execution_count": 73,
   "id": "aaba3cd4-3b37-4d7a-8b05-55af7db16716",
   "metadata": {},
   "outputs": [
    {
     "name": "stdin",
     "output_type": "stream",
     "text": [
      "Input the number of elements to be stored in the array:  5\n"
     ]
    },
    {
     "name": "stdout",
     "output_type": "stream",
     "text": [
      "Input 5 elements in the array: \n"
     ]
    },
    {
     "name": "stdin",
     "output_type": "stream",
     "text": [
      "element - 0 :  25\n",
      "element - 1 :  47\n",
      "element - 2 :  42\n",
      "element - 3 :  56\n",
      "element - 4 :  32\n"
     ]
    },
    {
     "name": "stdout",
     "output_type": "stream",
     "text": [
      "The Even elements are:\n",
      "42 56 32\n",
      "The Odd elements are :\n",
      "25 47\n"
     ]
    }
   ],
   "source": [
    "# Input the number of elements to be stored in the array\n",
    "number_elements = int(input(\"Input the number of elements to be stored in the array: \"))\n",
    "\n",
    "# \n",
    "even_numbers = []\n",
    "odd_numbers = []\n",
    "\n",
    "#\n",
    "print (\"Input\", number_elements, \"elements in the array: \")\n",
    "for i in range(number_elements):\n",
    "    num = int(input(\"element - \" + str(i) + \" : \"))\n",
    "    if num % 2 == 0:\n",
    "        even_numbers.append(num)\n",
    "    else:\n",
    "        odd_numbers.append(num)\n",
    "\n",
    "#Displaying the results as shown in the question.\n",
    "print(\"The Even elements are:\")\n",
    "print(*even_numbers)\n",
    "print(\"The Odd elements are :\")\n",
    "print(*odd_numbers)\n",
    "\n"
   ]
  },
  {
   "cell_type": "markdown",
   "id": "09116c62-2157-40d8-9363-a66b2a5a465e",
   "metadata": {},
   "source": [
    "## Question 5\n",
    "\n",
    "a. Write a function inside(x,y,x1,y1,x2,y2) that returns True or False \r\n",
    "depending on whether the point (x,y) lies in the rectangle with lower left \r\n",
    "corner (x1,y1) and upper right corner (x2,y2).\r\n",
    " inside(1,1,0,0,2,3)\r\n",
    "True\r\n",
    " inside(-1,-1,0,0,2,3)\r\n",
    " (1.1, 2).\r\n"
   ]
  },
  {
   "cell_type": "code",
   "execution_count": 15,
   "id": "c5480013-e15b-479e-be4d-5430b4867a4c",
   "metadata": {},
   "outputs": [
    {
     "name": "stdout",
     "output_type": "stream",
     "text": [
      "True\n",
      "False\n"
     ]
    }
   ],
   "source": [
    "def inside(x, y, x1, y1, x2, y2):\n",
    "    \"\"\"\n",
    "    Check if the point (x, y) lies inside the rectangle with lower left corner (x1, y1)\n",
    "    and upper right corner (x2, y2).\n",
    "    \"\"\"\n",
    "    #Check if the point is inside the rectangle by comparing x and y coordinates\n",
    "    if x1 <= x <= x2 and y1 <= y <= y2:\n",
    "        return True\n",
    "    else:\n",
    "        return False\n",
    "\n",
    "#test case\n",
    "print(inside(1,1,0,0,2,3)) #True\n",
    "print(inside(-1,-1,0,0,2,3)) #False"
   ]
  },
  {
   "cell_type": "markdown",
   "id": "78ef1bb2-510d-4553-9754-ffb69e387f19",
   "metadata": {},
   "source": [
    "b. Use function inside() from part a. to write an expression that tests whether \n",
    "the point (1,1) lies in both of the following rectangles: one with lower left\r\n",
    "corner (0.3, 0.5) and upper right corner (1.1, 0.7) and the other with lowe \r\n",
    "left corner (0.5, 0.2) and upper right corner (1.1, 2)."
   ]
  },
  {
   "cell_type": "code",
   "execution_count": 16,
   "id": "11d06496-7038-40b1-b37a-0e6a49b1fa4d",
   "metadata": {},
   "outputs": [
    {
     "name": "stdout",
     "output_type": "stream",
     "text": [
      "Is (1, 1) inside the first rectangle? False\n",
      "Is (1, 1) inside the Second rectangle? True\n",
      "Is (1, 1) inside both rectangles? False\n"
     ]
    }
   ],
   "source": [
    "#Define the coordinates of the rectangles\n",
    "rectangle1 = (0.3, 0.5, 1.1, 0.7)  # (x, y, x1, y1, x2, y2) for the first rectangle\n",
    "rectangle2 = (0.5, 0.2, 1.1, 2)    # (x, y, x1, y1, x2, y2) for the second rectangle\n",
    "\n",
    "#test if the point (1, 1) lies inside both rectangles\n",
    "point = (1, 1)\n",
    "is_in_rectangle1 = inside(point[0], point[1], rectangle1[0], rectangle1[1], rectangle1[2], rectangle1[3])\n",
    "is_in_rectangle2 = inside(point[0], point[1], rectangle2[0], rectangle2[1], rectangle2[2], rectangle2[3])\n",
    "\n",
    "#output the results\n",
    "print(\"Is (1, 1) inside the first rectangle?\", is_in_rectangle1)\n",
    "print(\"Is (1, 1) inside the Second rectangle?\", is_in_rectangle2)\n",
    "print(\"Is (1, 1) inside both rectangles?\", is_in_rectangle1 and is_in_rectangle2)\n",
    "\n"
   ]
  },
  {
   "cell_type": "markdown",
   "id": "2400e074-505f-4bf4-b877-353773a9e63c",
   "metadata": {},
   "source": [
    "## Question 6\n",
    "Write a function pig() that takes a word (i.e. a string) as input and returns its pig\u0002Latin form. Your function should still work if the input word contains upper case \r\n",
    "characters. Your output should always be lowercase however. \r\n",
    "\r\n",
    " pig(happy)\r\n",
    "\r\n",
    "appyhay\r\n",
    "\r\n",
    " pig(Enter)\r\n",
    "\r\n",
    "enterway\r\n",
    "enterway' \r\n"
   ]
  },
  {
   "cell_type": "code",
   "execution_count": 66,
   "id": "612bc922-ebe4-4d56-a181-d943bc557b38",
   "metadata": {},
   "outputs": [
    {
     "name": "stdout",
     "output_type": "stream",
     "text": [
      "appyhay\n",
      "enterway\n"
     ]
    }
   ],
   "source": [
    "def pig(word):\n",
    "    vowels = ['a', 'e', 'i', 'o', 'u']\n",
    "    \n",
    "    # ensuring the output is lowercase\n",
    "    word = word.lower()\n",
    "\n",
    "    # this block will check whether the word starts with a consonant or vowel and apply the due condition\n",
    "    if word[0] not in vowels:\n",
    "        pig_latin = word[1:] + word[0] + 'ay'\n",
    "    else:\n",
    "        pig_latin = word + 'way'\n",
    "\n",
    "    return pig_latin\n",
    "\n",
    "# test function\n",
    "print(pig('happy'))   \n",
    "print(pig('Enter'))  \n",
    "\n",
    "    "
   ]
  },
  {
   "cell_type": "markdown",
   "id": "b526488a-872a-45e7-bf9f-111ca24a9f77",
   "metadata": {},
   "source": [
    "## Question 7\n",
    "\n",
    "File bloodtype1.txt records blood-types of patients (A, B, AB, O or OO) at a clinic. \r\n",
    "Write a function bldcount() that reads the file with name name and reports (i.e., \r\n",
    "prints) how many patients there are in each bloodtype.\n"
   ]
  },
  {
   "cell_type": "code",
   "execution_count": 5,
   "id": "bea34d52-aae4-4aec-b90c-078c0470b109",
   "metadata": {},
   "outputs": [
    {
     "name": "stdout",
     "output_type": "stream",
     "text": [
      "There are 15 patients of blood type A.\n",
      "There is one patient of blood type B.\n",
      "There are 13 patients of blood type AB.\n",
      "There are 15 patients of blood type O.\n",
      "There are no patients of blood type OO.\n"
     ]
    }
   ],
   "source": [
    "\n",
    "def bldcount(dataset):   #define function\n",
    "    blood_counts = {'A': 0, 'B': 0, 'AB': 0, 'O': 0, 'OO': 0}\n",
    "    with open(dataset, 'r') as data:\n",
    "        contents = data.read()\n",
    "        blood_types = contents.split()\n",
    "        for blood_type in blood_types:\n",
    "            if blood_type in blood_counts:\n",
    "                blood_counts[blood_type] += 1\n",
    "            else:\n",
    "                print(f\"Unknown blood type '{blood_type}' found in the file.\")\n",
    "        for blood_type, count in blood_counts.items():\n",
    "            if count == 1:\n",
    "                print(f\"There is one patient of blood type {blood_type}.\")\n",
    "            elif count > 1:\n",
    "                print(f\"There are {count} patients of blood type {blood_type}.\")\n",
    "            else:\n",
    "                print(f\"There are no patients of blood type {blood_type}.\")\n",
    "\n",
    "bldcount('bloodtype1.txt')\n",
    "\n"
   ]
  },
  {
   "cell_type": "markdown",
   "id": "7427c0a3-6236-4fcc-b62c-af3625e0e2c5",
   "metadata": {},
   "source": [
    "## Question 8\n"
   ]
  },
  {
   "cell_type": "code",
   "execution_count": 10,
   "id": "9ad30565-d65a-4219-a3d4-549860ba583b",
   "metadata": {},
   "outputs": [
    {
     "name": "stdin",
     "output_type": "stream",
     "text": [
      "Enter the currency code:  jpy\n",
      "Enter the amount:  100\n"
     ]
    },
    {
     "name": "stdout",
     "output_type": "stream",
     "text": [
      "1.241401\n"
     ]
    }
   ],
   "source": [
    "def curconv():\n",
    "       \n",
    "        with open('currencies.txt', 'r') as file:\n",
    "            lines = file.readlines()\n",
    "\n",
    "       \n",
    "        currency_rates = {}\n",
    "\n",
    "  \n",
    "        for line in lines:\n",
    "            parts = line.split()\n",
    "            code = parts[0]\n",
    "            rate = float(parts[1])\n",
    "            currency_rates[code] = rate\n",
    "\n",
    "        currency = input(\"Enter the currency code: \").upper()\n",
    "        amount = float(input(\"Enter the amount: \"))\n",
    "\n",
    "        \n",
    "        if currency in currency_rates:\n",
    "            # Convert the amount to US dollars using the corresponding rate\n",
    "            usd_amount = amount * currency_rates[currency]\n",
    "            return usd_amount\n",
    "        else:\n",
    "            print(f\"Currency '{currency}' is not found in the file.\")\n",
    "            return None\n",
    "\n",
    "print(curconv())\n"
   ]
  },
  {
   "cell_type": "markdown",
   "id": "30da2023-d905-498f-a370-c97279b7ca89",
   "metadata": {},
   "source": [
    "## Question 9\n",
    "\n",
    "Identify what type of \n",
    "exception each will cause."
   ]
  },
  {
   "cell_type": "code",
   "execution_count": 12,
   "id": "8a935454-9dff-4d68-a1fa-ef23fbcbb8a8",
   "metadata": {},
   "outputs": [
    {
     "ename": "SyntaxError",
     "evalue": "invalid character '‘' (U+2018) (460619546.py, line 2)",
     "output_type": "error",
     "traceback": [
      "\u001b[1;36m  Cell \u001b[1;32mIn[12], line 2\u001b[1;36m\u001b[0m\n\u001b[1;33m    6 + ‘a’\u001b[0m\n\u001b[1;37m        ^\u001b[0m\n\u001b[1;31mSyntaxError\u001b[0m\u001b[1;31m:\u001b[0m invalid character '‘' (U+2018)\n"
     ]
    }
   ],
   "source": [
    "#example 1 This throws a SYNTAX ERROR because we are trying to add an integer and a string\n",
    "6 + ‘a’\n",
    "\n"
   ]
  },
  {
   "cell_type": "code",
   "execution_count": 13,
   "id": "6e1edc63-34dc-48be-b171-8bc9a7e8a2d5",
   "metadata": {},
   "outputs": [
    {
     "ename": "IndexError",
     "evalue": "list index out of range",
     "output_type": "error",
     "traceback": [
      "\u001b[1;31m---------------------------------------------------------------------------\u001b[0m",
      "\u001b[1;31mIndexError\u001b[0m                                Traceback (most recent call last)",
      "Cell \u001b[1;32mIn[13], line 6\u001b[0m\n\u001b[0;32m      3\u001b[0m y \u001b[38;5;241m=\u001b[39m [\u001b[38;5;241m1\u001b[39m,\u001b[38;5;241m2\u001b[39m,\u001b[38;5;241m3\u001b[39m,\u001b[38;5;241m4\u001b[39m,\u001b[38;5;241m5\u001b[39m,\u001b[38;5;241m6\u001b[39m,\u001b[38;5;241m7\u001b[39m,\u001b[38;5;241m8\u001b[39m,\u001b[38;5;241m9\u001b[39m,\u001b[38;5;241m10\u001b[39m]\n\u001b[0;32m      5\u001b[0m \u001b[38;5;66;03m#try calling the 12th item on list y\u001b[39;00m\n\u001b[1;32m----> 6\u001b[0m y[\u001b[38;5;241m12\u001b[39m]\n",
      "\u001b[1;31mIndexError\u001b[0m: list index out of range"
     ]
    }
   ],
   "source": [
    "#example 2\n",
    "#create a list \n",
    "y = [1,2,3,4,5,6,7,8,9,10]\n",
    "\n",
    "#try calling the 12th item on list y\n",
    "y[12]\n",
    "\n",
    "#this throws an INDEX ERROR because there is no 12th item"
   ]
  },
  {
   "cell_type": "code",
   "execution_count": 16,
   "id": "92911205-5c47-475a-ad63-0210a6cd1e55",
   "metadata": {},
   "outputs": [
    {
     "ename": "ValueError",
     "evalue": "math domain error",
     "output_type": "error",
     "traceback": [
      "\u001b[1;31m---------------------------------------------------------------------------\u001b[0m",
      "\u001b[1;31mValueError\u001b[0m                                Traceback (most recent call last)",
      "Cell \u001b[1;32mIn[16], line 2\u001b[0m\n\u001b[0;32m      1\u001b[0m \u001b[38;5;28;01mimport\u001b[39;00m \u001b[38;5;21;01mmath\u001b[39;00m\n\u001b[1;32m----> 2\u001b[0m math\u001b[38;5;241m.\u001b[39msqrt(\u001b[38;5;241m-\u001b[39m\u001b[38;5;241m1.0\u001b[39m)\n",
      "\u001b[1;31mValueError\u001b[0m: math domain error"
     ]
    }
   ],
   "source": [
    "#example 3\n",
    "import math\n",
    "math.sqrt(-1.0)\n",
    "\n",
    "#This throws a VALUE ERROR because the value -1.0 is out of range"
   ]
  },
  {
   "cell_type": "code",
   "execution_count": 72,
   "id": "c73e18a1-41fe-4e1a-9af6-28cbacf0c801",
   "metadata": {},
   "outputs": [
    {
     "ename": "NameError",
     "evalue": "name 'q' is not defined",
     "output_type": "error",
     "traceback": [
      "\u001b[1;31m---------------------------------------------------------------------------\u001b[0m",
      "\u001b[1;31mNameError\u001b[0m                                 Traceback (most recent call last)",
      "Cell \u001b[1;32mIn[72], line 2\u001b[0m\n\u001b[0;32m      1\u001b[0m \u001b[38;5;66;03m#Using an undeclared variable, such as print(q) when q has not been defined\u001b[39;00m\n\u001b[1;32m----> 2\u001b[0m \u001b[38;5;28mprint\u001b[39m(q)\n",
      "\u001b[1;31mNameError\u001b[0m: name 'q' is not defined"
     ]
    }
   ],
   "source": [
    "#Using an undeclared variable, such as print(q) when q has not been defined. This throws a NAME ERROR\n",
    "print(q)"
   ]
  },
  {
   "cell_type": "code",
   "execution_count": 6,
   "id": "a0d26910-455e-4b8a-bbd3-40023c857b5d",
   "metadata": {},
   "outputs": [
    {
     "ename": "FileNotFoundError",
     "evalue": "[Errno 2] No such file or directory: 'example.txt'",
     "output_type": "error",
     "traceback": [
      "\u001b[1;31m---------------------------------------------------------------------------\u001b[0m",
      "\u001b[1;31mFileNotFoundError\u001b[0m                         Traceback (most recent call last)",
      "Cell \u001b[1;32mIn[6], line 2\u001b[0m\n\u001b[0;32m      1\u001b[0m \u001b[38;5;66;03m#Trying to open a file that does not exist, such as mistyping the file name or looking in the wrong directory\u001b[39;00m\n\u001b[1;32m----> 2\u001b[0m file \u001b[38;5;241m=\u001b[39m \u001b[38;5;28mopen\u001b[39m(\u001b[38;5;124m'\u001b[39m\u001b[38;5;124mexample.txt\u001b[39m\u001b[38;5;124m'\u001b[39m)\n",
      "File \u001b[1;32m~\\anaconda3\\Lib\\site-packages\\IPython\\core\\interactiveshell.py:310\u001b[0m, in \u001b[0;36m_modified_open\u001b[1;34m(file, *args, **kwargs)\u001b[0m\n\u001b[0;32m    303\u001b[0m \u001b[38;5;28;01mif\u001b[39;00m file \u001b[38;5;129;01min\u001b[39;00m {\u001b[38;5;241m0\u001b[39m, \u001b[38;5;241m1\u001b[39m, \u001b[38;5;241m2\u001b[39m}:\n\u001b[0;32m    304\u001b[0m     \u001b[38;5;28;01mraise\u001b[39;00m \u001b[38;5;167;01mValueError\u001b[39;00m(\n\u001b[0;32m    305\u001b[0m         \u001b[38;5;124mf\u001b[39m\u001b[38;5;124m\"\u001b[39m\u001b[38;5;124mIPython won\u001b[39m\u001b[38;5;124m'\u001b[39m\u001b[38;5;124mt let you open fd=\u001b[39m\u001b[38;5;132;01m{\u001b[39;00mfile\u001b[38;5;132;01m}\u001b[39;00m\u001b[38;5;124m by default \u001b[39m\u001b[38;5;124m\"\u001b[39m\n\u001b[0;32m    306\u001b[0m         \u001b[38;5;124m\"\u001b[39m\u001b[38;5;124mas it is likely to crash IPython. If you know what you are doing, \u001b[39m\u001b[38;5;124m\"\u001b[39m\n\u001b[0;32m    307\u001b[0m         \u001b[38;5;124m\"\u001b[39m\u001b[38;5;124myou can use builtins\u001b[39m\u001b[38;5;124m'\u001b[39m\u001b[38;5;124m open.\u001b[39m\u001b[38;5;124m\"\u001b[39m\n\u001b[0;32m    308\u001b[0m     )\n\u001b[1;32m--> 310\u001b[0m \u001b[38;5;28;01mreturn\u001b[39;00m io_open(file, \u001b[38;5;241m*\u001b[39margs, \u001b[38;5;241m*\u001b[39m\u001b[38;5;241m*\u001b[39mkwargs)\n",
      "\u001b[1;31mFileNotFoundError\u001b[0m: [Errno 2] No such file or directory: 'example.txt'"
     ]
    }
   ],
   "source": [
    "#Trying to open a file that does not exist, such as mistyping the file name or looking in the wrong directory\n",
    "#This throws a FILE NOT FOUND ERROR\n",
    "file = open('example.txt')  #trying to open example.txt that does not exist\n"
   ]
  },
  {
   "cell_type": "markdown",
   "id": "5ddeaa34-6fe4-4dd9-8c7b-9ab3e41687df",
   "metadata": {},
   "source": [
    "## Question 10"
   ]
  },
  {
   "cell_type": "code",
   "execution_count": 12,
   "id": "4beed0e5-37e3-4f01-8f9c-b68db1dcc51f",
   "metadata": {},
   "outputs": [
    {
     "name": "stdin",
     "output_type": "stream",
     "text": [
      "Enter the text:  The quick red fox got bored and went home.\n"
     ]
    },
    {
     "name": "stdout",
     "output_type": "stream",
     "text": [
      "[1, 1, 1, 3, 5, 1, 1, 2, 1, 0, 1, 0, 1, 2, 4, 0, 1, 2, 0, 3, 1, 0, 1, 1, 0, 0]\n"
     ]
    },
    {
     "name": "stdin",
     "output_type": "stream",
     "text": [
      "Enter the text:  apple\n"
     ]
    },
    {
     "name": "stdout",
     "output_type": "stream",
     "text": [
      "[1, 0, 0, 0, 1, 0, 0, 0, 0, 0, 0, 1, 0, 0, 0, 2, 0, 0, 0, 0, 0, 0, 0, 0, 0, 0]\n"
     ]
    }
   ],
   "source": [
    "def frequencies(text):\n",
    "   \n",
    "    letters = 'abcdefghijklmnopqrstuvwxyz'\n",
    "   \n",
    "   \n",
    "    freq_list = [0] * 26\n",
    "  \n",
    "    text = text.lower()\n",
    "  \n",
    "    for char in text:\n",
    "      \n",
    "        if char in letters:\n",
    "           \n",
    "            index = letters.index(char)\n",
    "            freq_list[index] += 1\n",
    "   \n",
    "    return freq_list\n",
    "\n",
    "\n",
    "text1 = input(\"Enter the text: \")\n",
    "print(frequencies(text1))\n",
    "text2 = input(\"Enter the text: \")\n",
    "print(frequencies(text2))"
   ]
  },
  {
   "cell_type": "code",
   "execution_count": null,
   "id": "297b2c72-6f0a-44f6-b3bf-a8cca7ec070e",
   "metadata": {},
   "outputs": [],
   "source": []
  }
 ],
 "metadata": {
  "kernelspec": {
   "display_name": "Python 3 (ipykernel)",
   "language": "python",
   "name": "python3"
  },
  "language_info": {
   "codemirror_mode": {
    "name": "ipython",
    "version": 3
   },
   "file_extension": ".py",
   "mimetype": "text/x-python",
   "name": "python",
   "nbconvert_exporter": "python",
   "pygments_lexer": "ipython3",
   "version": "3.11.7"
  }
 },
 "nbformat": 4,
 "nbformat_minor": 5
}
